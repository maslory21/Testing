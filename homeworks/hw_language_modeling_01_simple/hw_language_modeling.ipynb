{
  "cells": [
    {
      "cell_type": "markdown",
      "metadata": {
        "id": "view-in-github",
        "colab_type": "text"
      },
      "source": [
        "<a href=\"https://colab.research.google.com/github/maslory21/Testing/blob/main/homeworks/hw_language_modeling_01_simple/hw_language_modeling.ipynb\" target=\"_parent\"><img src=\"https://colab.research.google.com/assets/colab-badge.svg\" alt=\"Open In Colab\"/></a>"
      ]
    },
    {
      "cell_type": "markdown",
      "metadata": {
        "id": "lEiYJ3itYv8l"
      },
      "source": [
        "### Генерация поэзии с помощью нейронных сетей: шаг 1\n",
        "##### Автор: [Радослав Нейчев](https://www.linkedin.com/in/radoslav-neychev/), @neychev\n",
        "\n",
        "Ваша основная задача: научиться генерироват стихи с помощью простой рекуррентной нейронной сети (Vanilla RNN). В качестве корпуса текстов для обучения будет выступать роман в стихах \"Евгений Онегин\" Александра Сергеевича Пушкина."
      ]
    },
    {
      "cell_type": "code",
      "execution_count": 3,
      "metadata": {
        "id": "E3nXeT0GYv8l"
      },
      "outputs": [],
      "source": [
        "# do not change the code in the block below\n",
        "# __________start of block__________\n",
        "import string\n",
        "import os\n",
        "from random import sample\n",
        "\n",
        "import numpy as np\n",
        "import torch, torch.nn as nn\n",
        "import torch.nn.functional as F\n",
        "\n",
        "from IPython.display import clear_output\n",
        "\n",
        "import matplotlib.pyplot as plt\n",
        "# __________end of block__________"
      ]
    },
    {
      "cell_type": "code",
      "execution_count": 4,
      "metadata": {
        "colab": {
          "base_uri": "https://localhost:8080/"
        },
        "id": "ena2mCvwYv8m",
        "outputId": "e9be5af2-217f-43df-f9c1-e502dd822098"
      },
      "outputs": [
        {
          "output_type": "stream",
          "name": "stdout",
          "text": [
            "cpu device is available\n"
          ]
        }
      ],
      "source": [
        "# do not change the code in the block below\n",
        "# __________start of block__________\n",
        "device = torch.device('cuda') if torch.cuda.is_available() else torch.device('cpu')\n",
        "print('{} device is available'.format(device))\n",
        "# __________end of block__________"
      ]
    },
    {
      "cell_type": "markdown",
      "metadata": {
        "id": "MPenWOy01Ooa",
        "outputId": "a92e8e33-e009-4bd4-ac12-3b1b5e1cd3f2"
      },
      "source": [
        "#### 1. Загрузка данных."
      ]
    },
    {
      "cell_type": "code",
      "execution_count": 5,
      "metadata": {
        "colab": {
          "base_uri": "https://localhost:8080/"
        },
        "id": "XIAubZ_8Yv8m",
        "outputId": "0b25041e-be98-4ed9-cbe9-2eb1e69b4093"
      },
      "outputs": [
        {
          "output_type": "stream",
          "name": "stdout",
          "text": [
            "--2024-12-03 14:57:40--  https://raw.githubusercontent.com/neychev/small_DL_repo/master/datasets/onegin.txt\n",
            "Resolving raw.githubusercontent.com (raw.githubusercontent.com)... 185.199.108.133, 185.199.111.133, 185.199.109.133, ...\n",
            "Connecting to raw.githubusercontent.com (raw.githubusercontent.com)|185.199.108.133|:443... connected.\n",
            "HTTP request sent, awaiting response... 200 OK\n",
            "Length: 262521 (256K) [text/plain]\n",
            "Saving to: ‘onegin.txt’\n",
            "\n",
            "onegin.txt          100%[===================>] 256.37K  --.-KB/s    in 0.04s   \n",
            "\n",
            "2024-12-03 14:57:40 (6.32 MB/s) - ‘onegin.txt’ saved [262521/262521]\n",
            "\n"
          ]
        }
      ],
      "source": [
        "# do not change the code in the block below\n",
        "# __________start of block__________\n",
        "!wget https://raw.githubusercontent.com/neychev/small_DL_repo/master/datasets/onegin.txt\n",
        "\n",
        "with open('onegin.txt', 'r') as iofile:\n",
        "    text = iofile.readlines()\n",
        "\n",
        "text = \"\".join([x.replace('\\t\\t', '').lower() for x in text])\n",
        "# __________end of block__________"
      ]
    },
    {
      "cell_type": "markdown",
      "metadata": {
        "id": "XQYpmGfR_gJ8"
      },
      "source": [
        "#### 2. Построение словаря и предобработка текста\n",
        "В данном задании требуется построить языковую модель на уровне символов. Приведем весь текст к нижнему регистру и построим словарь из всех символов в доступном корпусе текстов. Также добавим токен `<sos>`."
      ]
    },
    {
      "cell_type": "code",
      "execution_count": 6,
      "metadata": {
        "colab": {
          "base_uri": "https://localhost:8080/"
        },
        "id": "M74-2eT1Yv8n",
        "outputId": "fd0ec84c-e474-47e8-f96d-060e201eaa13"
      },
      "outputs": [
        {
          "output_type": "stream",
          "name": "stdout",
          "text": [
            "Seems fine!\n"
          ]
        }
      ],
      "source": [
        "# do not change the code in the block below\n",
        "# __________start of block__________\n",
        "tokens = sorted(set(text.lower())) + ['<']\n",
        "num_tokens = len(tokens)\n",
        "\n",
        "assert num_tokens == 84, \"Check the tokenization process\"\n",
        "\n",
        "token_to_idx = {x: idx for idx, x in enumerate(tokens)}\n",
        "idx_to_token = {idx: x for idx, x in enumerate(tokens)}\n",
        "\n",
        "assert len(tokens) == len(token_to_idx), \"Mapping should be unique\"\n",
        "\n",
        "print(\"Seems fine!\")\n",
        "\n",
        "\n",
        "text_encoded = [token_to_idx[x] for x in text]\n",
        "# __________end of block__________"
      ]
    },
    {
      "cell_type": "markdown",
      "metadata": {
        "id": "8KvJng1_Yv8n"
      },
      "source": [
        "__Ваша задача__: обучить классическую рекуррентную нейронную сеть (Vanilla RNN) предсказывать следующий символ на полученном корпусе текстов и сгенерировать последовательность длины 100 для фиксированной начальной фразы.\n",
        "\n",
        "Вы можете воспользоваться кодом с занятие №6 или же обратиться к следующим ссылкам:\n",
        "* Замечательная статья за авторством Andrej Karpathy об использовании RNN: [link](http://karpathy.github.io/2015/05/21/rnn-effectiveness/)\n",
        "* Пример char-rnn от Andrej Karpathy: [github repo](https://github.com/karpathy/char-rnn)\n",
        "* Замечательный пример генерации поэзии Шекспира: [github repo](https://github.com/spro/practical-pytorch/blob/master/char-rnn-generation/char-rnn-generation.ipynb)\n",
        "\n",
        "Данное задание является достаточно творческим. Не страшно, если поначалу оно вызывает затруднения. Последняя ссылка в списке выше может быть особенно полезна в данном случае.\n",
        "\n",
        "Далее для вашего удобства реализована функция, которая генерирует случайный батч размера `batch_size` из строк длиной `seq_length`. Вы можете использовать его при обучении модели."
      ]
    },
    {
      "cell_type": "code",
      "execution_count": 7,
      "metadata": {
        "id": "ZuSa31mcYv8n"
      },
      "outputs": [],
      "source": [
        "# do not change the code in the block below\n",
        "# __________start of block__________\n",
        "batch_size = 3\n",
        "seq_length = 100\n",
        "start_column = np.zeros((batch_size, 1), dtype=int) + token_to_idx['<']\n",
        "\n",
        "def generate_chunk():\n",
        "    global text_encoded, start_column, batch_size, seq_length\n",
        "\n",
        "    start_index = np.random.randint(0, len(text_encoded) - batch_size*seq_length - 1)\n",
        "    data = np.array(text_encoded[start_index:start_index + batch_size*seq_length]).reshape((batch_size, -1))\n",
        "    yield np.hstack((start_column, data))\n",
        "# __________end of block__________"
      ]
    },
    {
      "cell_type": "markdown",
      "metadata": {
        "id": "FmaB62IzYv8n"
      },
      "source": [
        "Пример батча:"
      ]
    },
    {
      "cell_type": "code",
      "execution_count": 65,
      "metadata": {
        "colab": {
          "base_uri": "https://localhost:8080/"
        },
        "id": "8ZcYw1UDYv8n",
        "outputId": "8c12f6e7-bb17-4185-edbe-ac7c06b0c030"
      },
      "outputs": [
        {
          "output_type": "execute_result",
          "data": {
            "text/plain": [
              "array([[83, 13,  0, 52, 49, 50, 62, 73,  1, 46, 45, 61, 53, 58,  1, 62,\n",
              "        53, 51, 53, 47, 45, 56,  1, 59, 49, 53, 58,  7,  0,  0,  0,  0,\n",
              "        40, 38, 26, 26, 26,  0,  0, 52, 49, 50, 62, 73,  1, 62,  1, 58,\n",
              "        53, 57,  1, 59, 46, 50, 49, 72, 47, 45, 56,  1, 52, 53, 57, 59,\n",
              "        75,  0, 60, 59, 55, 59, 54, 58, 72, 54,  1, 56, 50, 58, 62, 55,\n",
              "        53, 54,  5,  1, 58, 45, 69,  1, 62, 59, 62, 50, 49,  7,  0, 62,\n",
              "        75, 49, 45,  1, 60],\n",
              "       [83, 59, 51, 45, 56, 64, 54, 63, 50,  5,  1, 52, 45,  1, 57, 58,\n",
              "        59, 75,  7,  0, 47, 59, 63,  1, 74, 63, 59,  1, 46, 45, 61, 62,\n",
              "        55, 53, 54,  1, 55, 45, 46, 53, 58, 50, 63, 13,  0, 52, 49, 50,\n",
              "        62, 73,  1, 60, 59, 68, 53, 47, 45, 56,  1, 59, 58,  5,  1, 55,\n",
              "        59, 65, 50, 54,  1, 55, 64, 69, 45, 56,  5,  0, 60, 61, 53, 55,\n",
              "        45, 52, 68, 53, 55, 45,  1, 49, 59, 55, 56, 45, 49, 72,  1, 62,\n",
              "        56, 64, 69, 45, 56],\n",
              "       [83,  0, 53,  1, 55, 58, 53, 51, 55, 64,  1, 60, 59, 64, 63, 61,\n",
              "        64,  1, 68, 53, 63, 45, 56, 81,  0, 53,  1, 62, 63, 45, 61, 72,\n",
              "        54,  1, 46, 45, 61, 53, 58,  1, 52, 49, 50, 62, 73,  1, 51, 53,\n",
              "        47, 45, 56, 13,  0, 62, 59,  1, 57, 58, 59, 54,  5,  1, 46, 72,\n",
              "        47, 45, 56, 59,  5,  1, 47,  1, 47, 59, 62, 55, 61, 50, 62, 50,\n",
              "        58, 73, 50,  5,  0, 52, 49, 50, 62, 73,  1, 60, 59, 49,  1, 59,\n",
              "        55, 58, 59, 57,  5]])"
            ]
          },
          "metadata": {},
          "execution_count": 65
        }
      ],
      "source": [
        "next(generate_chunk())"
      ]
    },
    {
      "cell_type": "markdown",
      "metadata": {
        "id": "TwSjST8HYv8o"
      },
      "source": [
        "Далее вам предстоит написать код для обучения модели и генерации текста."
      ]
    },
    {
      "cell_type": "code",
      "execution_count": 8,
      "metadata": {
        "colab": {
          "base_uri": "https://localhost:8080/"
        },
        "id": "Q6PoZ2moYv8o",
        "outputId": "fcc3b462-7f8e-4436-ccb5-1cce3bbc9ca4"
      },
      "outputs": [
        {
          "output_type": "stream",
          "name": "stdout",
          "text": [
            "из пеленок,\n",
            "кокетка, ветреный ребенок!\n",
            "уж хитрость ведает она,\n",
            "уж изменять научена!\n",
            "не в силах ленский снесть удара;\n",
            "проказы женские кляня,\n",
            "выходит, требует коня\n",
            "и скачет. пистолетов пара,\n",
            "две пули – б\n"
          ]
        }
      ],
      "source": [
        "import random\n",
        "chunk_len = 200\n",
        "file_len = len(text)\n",
        "\n",
        "def random_chunk():\n",
        "    start_index = random.randint(0, file_len - chunk_len - 1)\n",
        "    end_index = start_index + chunk_len + 1\n",
        "    return text[start_index:end_index]\n",
        "\n",
        "print(random_chunk())"
      ]
    },
    {
      "cell_type": "code",
      "source": [
        "solo_chunk = random_chunk()\n",
        "print(solo_chunk)\n",
        "print(type(solo_chunk), len(solo_chunk))\n",
        "\n",
        "print(''.join([idx_to_token[x] for x in solo_chunk]))"
      ],
      "metadata": {
        "colab": {
          "base_uri": "https://localhost:8080/",
          "height": 428
        },
        "id": "9eUX56UFiOdg",
        "outputId": "3178eaa8-bbfa-4c28-e97c-15838ef9a152"
      },
      "execution_count": 9,
      "outputs": [
        {
          "output_type": "stream",
          "name": "stdout",
          "text": [
            "\n",
            "«о чем же, таня? я, бывало,\n",
            "хранила в памяти не мало\n",
            "старинных былей, небылиц\n",
            "про злых духов и про девиц;\n",
            "а нынче всё мне тёмно, таня:\n",
            "что знала, то забыла. да,\n",
            "пришла худая череда!\n",
            "зашибло…» – «расск\n",
            "<class 'str'> 201\n"
          ]
        },
        {
          "output_type": "error",
          "ename": "KeyError",
          "evalue": "'\\n'",
          "traceback": [
            "\u001b[0;31m---------------------------------------------------------------------------\u001b[0m",
            "\u001b[0;31mKeyError\u001b[0m                                  Traceback (most recent call last)",
            "\u001b[0;32m<ipython-input-9-383a41133537>\u001b[0m in \u001b[0;36m<cell line: 5>\u001b[0;34m()\u001b[0m\n\u001b[1;32m      3\u001b[0m \u001b[0mprint\u001b[0m\u001b[0;34m(\u001b[0m\u001b[0mtype\u001b[0m\u001b[0;34m(\u001b[0m\u001b[0msolo_chunk\u001b[0m\u001b[0;34m)\u001b[0m\u001b[0;34m,\u001b[0m \u001b[0mlen\u001b[0m\u001b[0;34m(\u001b[0m\u001b[0msolo_chunk\u001b[0m\u001b[0;34m)\u001b[0m\u001b[0;34m)\u001b[0m\u001b[0;34m\u001b[0m\u001b[0;34m\u001b[0m\u001b[0m\n\u001b[1;32m      4\u001b[0m \u001b[0;34m\u001b[0m\u001b[0m\n\u001b[0;32m----> 5\u001b[0;31m \u001b[0mprint\u001b[0m\u001b[0;34m(\u001b[0m\u001b[0;34m''\u001b[0m\u001b[0;34m.\u001b[0m\u001b[0mjoin\u001b[0m\u001b[0;34m(\u001b[0m\u001b[0;34m[\u001b[0m\u001b[0midx_to_token\u001b[0m\u001b[0;34m[\u001b[0m\u001b[0mx\u001b[0m\u001b[0;34m]\u001b[0m \u001b[0;32mfor\u001b[0m \u001b[0mx\u001b[0m \u001b[0;32min\u001b[0m \u001b[0msolo_chunk\u001b[0m\u001b[0;34m]\u001b[0m\u001b[0;34m)\u001b[0m\u001b[0;34m)\u001b[0m\u001b[0;34m\u001b[0m\u001b[0;34m\u001b[0m\u001b[0m\n\u001b[0m",
            "\u001b[0;32m<ipython-input-9-383a41133537>\u001b[0m in \u001b[0;36m<listcomp>\u001b[0;34m(.0)\u001b[0m\n\u001b[1;32m      3\u001b[0m \u001b[0mprint\u001b[0m\u001b[0;34m(\u001b[0m\u001b[0mtype\u001b[0m\u001b[0;34m(\u001b[0m\u001b[0msolo_chunk\u001b[0m\u001b[0;34m)\u001b[0m\u001b[0;34m,\u001b[0m \u001b[0mlen\u001b[0m\u001b[0;34m(\u001b[0m\u001b[0msolo_chunk\u001b[0m\u001b[0;34m)\u001b[0m\u001b[0;34m)\u001b[0m\u001b[0;34m\u001b[0m\u001b[0;34m\u001b[0m\u001b[0m\n\u001b[1;32m      4\u001b[0m \u001b[0;34m\u001b[0m\u001b[0m\n\u001b[0;32m----> 5\u001b[0;31m \u001b[0mprint\u001b[0m\u001b[0;34m(\u001b[0m\u001b[0;34m''\u001b[0m\u001b[0;34m.\u001b[0m\u001b[0mjoin\u001b[0m\u001b[0;34m(\u001b[0m\u001b[0;34m[\u001b[0m\u001b[0midx_to_token\u001b[0m\u001b[0;34m[\u001b[0m\u001b[0mx\u001b[0m\u001b[0;34m]\u001b[0m \u001b[0;32mfor\u001b[0m \u001b[0mx\u001b[0m \u001b[0;32min\u001b[0m \u001b[0msolo_chunk\u001b[0m\u001b[0;34m]\u001b[0m\u001b[0;34m)\u001b[0m\u001b[0;34m)\u001b[0m\u001b[0;34m\u001b[0m\u001b[0;34m\u001b[0m\u001b[0m\n\u001b[0m",
            "\u001b[0;31mKeyError\u001b[0m: '\\n'"
          ]
        }
      ]
    },
    {
      "cell_type": "code",
      "source": [
        "\n",
        "import string\n",
        "import random\n",
        "import re\n",
        "import torch\n",
        "import torch.nn as nn\n",
        "import time\n",
        "import math\n",
        "\n",
        "\n",
        "class RNN(nn.Module):\n",
        "    def __init__(self, input_size, hidden_size, output_size, n_layers=1):\n",
        "        super(RNN, self).__init__()\n",
        "        self.input_size = input_size\n",
        "        self.hidden_size = hidden_size\n",
        "        self.output_size = output_size\n",
        "        self.n_layers = n_layers\n",
        "\n",
        "        self.encoder = nn.Embedding(input_size, hidden_size)\n",
        "        self.gru = nn.GRU(hidden_size, hidden_size, n_layers)\n",
        "        self.decoder = nn.Linear(hidden_size, output_size)\n",
        "\n",
        "    def forward(self, input, hidden):\n",
        "        input = self.encoder(input.view(1, -1))\n",
        "        output, hidden = self.gru(input.view(1, 1, -1), hidden)\n",
        "        output = self.decoder(output.view(1, -1))\n",
        "        return output, hidden\n",
        "\n",
        "    def init_hidden(self):\n",
        "        return torch.zeros(self.n_layers, 1, self.hidden_size)"
      ],
      "metadata": {
        "id": "sZ7Re6suddrE"
      },
      "execution_count": 10,
      "outputs": []
    },
    {
      "cell_type": "code",
      "source": [
        "def char_tensor(string):\n",
        "    tensor = torch.zeros(len(string), dtype=torch.long)\n",
        "    for c in range(len(string)):\n",
        "        tensor[c] = token_to_idx[string[c]]\n",
        "    return tensor\n",
        "\n",
        "print(char_tensor('abcdefx'))\n"
      ],
      "metadata": {
        "colab": {
          "base_uri": "https://localhost:8080/"
        },
        "id": "sBo2oV6sey3A",
        "outputId": "08866428-b0b7-4490-82d9-3714958d94cc"
      },
      "execution_count": 11,
      "outputs": [
        {
          "output_type": "stream",
          "name": "stdout",
          "text": [
            "tensor([18, 19, 20, 21, 22, 23, 40])\n"
          ]
        }
      ]
    },
    {
      "cell_type": "code",
      "source": [
        "def random_training_set():\n",
        "    chunk = random_chunk()\n",
        "    inp = char_tensor(chunk[:-1])\n",
        "    target = char_tensor(chunk[1:])\n",
        "    return inp, target"
      ],
      "metadata": {
        "id": "fDkupJRsl4ui"
      },
      "execution_count": 12,
      "outputs": []
    },
    {
      "cell_type": "code",
      "source": [
        "n_epochs = 2000\n",
        "print_every = 100\n",
        "plot_every = 10\n",
        "hidden_size = 100\n",
        "n_layers = 1\n",
        "lr = 0.005\n",
        "\n",
        "decoder = RNN(num_tokens, hidden_size, num_tokens, n_layers)\n",
        "decoder_optimizer = torch.optim.Adam(decoder.parameters(), lr=lr)\n",
        "criterion = nn.CrossEntropyLoss()"
      ],
      "metadata": {
        "id": "ndpfpZnaoIFq"
      },
      "execution_count": 13,
      "outputs": []
    },
    {
      "cell_type": "code",
      "source": [
        "def evaluate(prime_str='A', predict_len=100, temperature=0.8):\n",
        "    hidden = decoder.init_hidden()\n",
        "    prime_input = char_tensor(prime_str)\n",
        "    predicted = prime_str\n",
        "\n",
        "    # Use priming string to \"build up\" hidden state\n",
        "    for p in range(len(prime_str) - 1):\n",
        "        _, hidden = decoder(prime_input[p], hidden)\n",
        "    inp = prime_input[-1]\n",
        "\n",
        "    for _ in range(predict_len):\n",
        "        output, hidden = decoder(inp, hidden)\n",
        "\n",
        "        # Sample from the network as a multinomial distribution\n",
        "        output_dist = output.data.view(-1).div(temperature).exp()\n",
        "        output_dist = output_dist / output_dist.sum()  # Normalize\n",
        "        top_i = torch.multinomial(output_dist, 1)[0]\n",
        "\n",
        "        # Add predicted character to string and use as next input\n",
        "        predicted_char = idx_to_token[top_i.item()]\n",
        "        predicted += predicted_char\n",
        "        inp = char_tensor(predicted_char)[0]\n",
        "\n",
        "    return predicted"
      ],
      "metadata": {
        "id": "B0xqMP8_nfGu"
      },
      "execution_count": 14,
      "outputs": []
    },
    {
      "cell_type": "code",
      "source": [
        "import time\n",
        "import math\n",
        "\n",
        "def time_since(since):\n",
        "    s = time.time() - since\n",
        "    m = math.floor(s / 60)\n",
        "    s -= m * 60\n",
        "    return '%dm %ds' % (m, s)\n"
      ],
      "metadata": {
        "id": "ROrJjEnbn3jB"
      },
      "execution_count": 15,
      "outputs": []
    },
    {
      "cell_type": "code",
      "source": [
        "def train(inp, target):\n",
        "    hidden = decoder.init_hidden()\n",
        "    decoder.zero_grad()\n",
        "    loss = 0\n",
        "\n",
        "    for c in range(chunk_len):\n",
        "        output, hidden = decoder(inp[c], hidden)\n",
        "        loss += criterion(output, target[c].unsqueeze(0))\n",
        "\n",
        "    loss.backward()\n",
        "    decoder_optimizer.step()\n",
        "\n",
        "    return loss.item() / chunk_len\n"
      ],
      "metadata": {
        "id": "yhh5oUZvoBZe"
      },
      "execution_count": 16,
      "outputs": []
    },
    {
      "cell_type": "code",
      "source": [
        "start = time.time()\n",
        "all_losses = []\n",
        "loss_avg = 0\n",
        "\n",
        "n_epochs = 3500\n",
        "print_every = 100\n",
        "plot_every = 10\n",
        "hidden_size = 100\n",
        "n_layers = 1\n",
        "lr = 0.005\n",
        "\n",
        "for epoch in range(1, n_epochs + 1):\n",
        "    loss = train(*random_training_set())\n",
        "    loss_avg += loss\n",
        "\n",
        "    if epoch % print_every == 0:\n",
        "        print('[%s (%d %d%%) %.4f]' % (time_since(start), epoch, epoch / n_epochs * 100, loss))\n",
        "        print(evaluate(' привет светлана ты ', 100), '\\n')\n",
        "\n",
        "    if epoch % plot_every == 0:\n",
        "        all_losses.append(loss_avg / plot_every)\n",
        "        loss_avg = 0"
      ],
      "metadata": {
        "colab": {
          "base_uri": "https://localhost:8080/"
        },
        "id": "VRofXrFAukoI",
        "outputId": "3948a65f-aae6-4e17-e715-76eb7efc1e64"
      },
      "execution_count": 17,
      "outputs": [
        {
          "output_type": "stream",
          "name": "stdout",
          "text": [
            "[0m 19s (100 2%) 2.4448]\n",
            " привет светлана ты дузрарны оней,\n",
            "с коратых,\n",
            "но ставак тропий налл стовоеньенья суть сыйля.\n",
            "прове биес!\n",
            "гоня омрелобило \n",
            "\n",
            "[0m 36s (200 5%) 2.3751]\n",
            " привет светлана ты то и стуша?).\n",
            "\n",
            "\n",
            "\n",
            "\n",
            "xxxxa\n",
            "\n",
            "\n",
            "xxvii\n",
            "\n",
            "\n",
            "xxivoo-\n",
            "\n",
            "\n",
            "xvii\n",
            "\n",
            "\n",
            "видранев\n",
            "оститка:\n",
            "залоная подильсь пезавить мужно \n",
            "\n",
            "[0m 55s (300 8%) 2.4120]\n",
            " привет светлана ты всот, на нолья\n",
            "не кольно, быр длеги\n",
            "на симял.\n",
            "\n",
            "\n",
            "xxvi\n",
            "\n",
            "етчесть, тык стать не верных.\n",
            "\n",
            "\n",
            "\n",
            "xxxi\n",
            "\n",
            "но доло \n",
            "\n",
            "[1m 13s (400 11%) 2.3464]\n",
            " привет светлана ты марити ей,\n",
            "вперети не спославев.\n",
            "и косо так уведа, друмяти не блед осне уболье\n",
            "чирее рози. – прернин \n",
            "\n",
            "[1m 32s (500 14%) 2.2024]\n",
            " привет светлана ты принестибасью… —\n",
            "\n",
            "«о доломно мое молествей небалеской насть.\n",
            "\n",
            "\n",
            "xxxx\n",
            "\n",
            "но глея свидная бездут.\n",
            "паиданя \n",
            "\n",
            "[1m 52s (600 17%) 2.0705]\n",
            " привет светлана ты за она жеренсь.\n",
            "\n",
            "\n",
            "\n",
            "xxxi\n",
            "\n",
            "и не всем, как любесть ве дет и едочный подрога,\n",
            "свот не пуковеть одней.\n",
            "\n",
            "\n",
            " \n",
            "\n",
            "[2m 11s (700 20%) 2.1800]\n",
            " привет светлана ты молет.\n",
            "\n",
            "\n",
            "\n",
            "xxxi\n",
            "\n",
            "не блов, ты в в всегих смала\n",
            "надери полкой:\n",
            "в сих татьяна тавли танной\n",
            "я бородал не  \n",
            "\n",
            "[2m 30s (800 22%) 2.1055]\n",
            " привет светлана ты неизам\n",
            "своей он прином може и так поэт;\n",
            "и почнегой рукно, котов онсклений\n",
            "оскак и спислах он!\n",
            "ви туш \n",
            "\n",
            "[2m 48s (900 25%) 2.2916]\n",
            " привет светлана ты вестве том,\n",
            "и а конкою пристрогих дубесть?\n",
            "не людил нистасных людь он он зуюдой\n",
            "вашилить на с ней не \n",
            "\n",
            "[3m 7s (1000 28%) 2.3165]\n",
            " привет светлана ты вашей,\n",
            "вид и в воляк, грудься ей свеня,\n",
            "уста и глубодить онегон be.. надять и в ях мелим\n",
            "в госставь  \n",
            "\n",
            "[3m 26s (1100 31%) 2.2775]\n",
            " привет светлана ты госный,\n",
            "и не бысланья бескразвари друсь\n",
            "одною черкався лько его,\n",
            "к так и и слуши браваю льску:\n",
            "дедей \n",
            "\n",
            "[3m 45s (1200 34%) 2.1718]\n",
            " привет светлана ты без влиском\n",
            "провали мозденных дволины.\n",
            "сердца в дрежни сердей, отрада,\n",
            "свою прирости налисьми,\n",
            "полча \n",
            "\n",
            "[4m 3s (1300 37%) 2.3626]\n",
            " привет светлана ты жоейстанья, соходей\n",
            "сед быть и, жмисла ем прочей,\n",
            "уж дели, мина сфробои ворой.\n",
            "седда моя дебренья бы \n",
            "\n",
            "[4m 23s (1400 40%) 2.1124]\n",
            " привет светлана ты очень.\n",
            "\n",
            "\n",
            "\n",
            "xxxi\n",
            "\n",
            "тахот в что жливал мечи.\n",
            "узлестая вдруг обнего светво,\n",
            "в луну мочено, заредных\n",
            "и мыс \n",
            "\n",
            "[4m 43s (1500 42%) 2.1246]\n",
            " привет светлана ты ей\n",
            "я нем и проза стырин,\n",
            "без это мыл был оборон,\n",
            "собый страскиз, татьяна скородной,\n",
            "уга слава пото з \n",
            "\n",
            "[5m 1s (1600 45%) 2.0319]\n",
            " привет светлана ты студем,\n",
            "кажда слуходы: на толь, ни другой,\n",
            "и в думи будут девицы.\n",
            "и безденни сводо. не том,\n",
            "вот душа \n",
            "\n",
            "[5m 20s (1700 48%) 2.2447]\n",
            " привет светлана ты торковью;\n",
            "и волно, приствины клаского девы,\n",
            "о мне читоря, его поголулена\n",
            "иском всё в госвил оженным  \n",
            "\n",
            "[5m 39s (1800 51%) 2.0076]\n",
            " привет светлана ты кримыи\n",
            "полуж ей то же зверью друг застрего\n",
            "про верем обозвот\n",
            "к пого всегда бмил занемлет\n",
            "когда б уде \n",
            "\n",
            "[5m 56s (1900 54%) 2.1160]\n",
            " привет светлана ты он\n",
            "за за небеделаска. кровенся,\n",
            "могойно может судит;\n",
            "но всё то-татеродный седины сладный,\n",
            "и здет усл \n",
            "\n",
            "[6m 14s (2000 57%) 1.9805]\n",
            " привет светлана ты мир!\n",
            "\n",
            "\n",
            "\n",
            "xxx\n",
            "\n",
            "тетать далась примеленных мились\n",
            "востал отвамене, и лишь;\n",
            "соженносанье он приры,\n",
            "он убо \n",
            "\n",
            "[6m 33s (2100 60%) 2.0817]\n",
            " привет светлана ты призаним\n",
            "всё, да сточил увона в морой откой\n",
            "не помилам и сердце друга,\n",
            "кружбои самка что тоска;\n",
            "на т \n",
            "\n",
            "[6m 51s (2200 62%) 1.6117]\n",
            " привет светлана ты жал…\n",
            "в покрычи впетанный ует изолью,\n",
            "где эпогрекный, звами\n",
            "преготрым согругин поэтать,\n",
            "два спеласки  \n",
            "\n",
            "[7m 10s (2300 65%) 2.0010]\n",
            " привет светлана ты вотретой\n",
            "ах, таком куто б и плоня, жали\n",
            "сойдетов, первый оточковый неволенья;\n",
            "снего святский долгово \n",
            "\n",
            "[7m 27s (2400 68%) 2.2887]\n",
            " привет светлана ты в\n",
            "одесть обят не дворая;\n",
            "и вот поситель ждурнули сурный\n",
            "круг он толся всё знались\n",
            "уж зажет и клуком  \n",
            "\n",
            "[7m 46s (2500 71%) 1.9365]\n",
            " привет светлана ты нем никогом,\n",
            "пред слез отсей слез боем собрану,\n",
            "сворей гароб в любила,\n",
            "хоть чай и за глубоко взгляди \n",
            "\n",
            "[8m 4s (2600 74%) 2.2588]\n",
            " привет светлана ты то оче,\n",
            "и мчал лестительны полкать\n",
            "а моль я ничала молодит,\n",
            "ответа отомный ей не молствой,\n",
            "отъерказа \n",
            "\n",
            "[8m 22s (2700 77%) 1.8186]\n",
            " привет светлана ты ставной,\n",
            "кружен грокордознею мила,\n",
            "светса, долг жилно, было ж два,\n",
            "как ждузать благомет правимет;\n",
            "кр \n",
            "\n",
            "[8m 40s (2800 80%) 1.9350]\n",
            " привет светлана ты летский\n",
            "лезник лицо наслушал» —\n",
            "он татьета поле нардалина\n",
            "доло должных кукой и пренежной.\n",
            "\n",
            "\n",
            "\n",
            "iii\n",
            "\n",
            "к  \n",
            "\n",
            "[8m 58s (2900 82%) 2.1336]\n",
            " привет светлана ты врог\n",
            "и же татьяна долг быть с так друзь\n",
            "за замиров и опаг,\n",
            "в струг из прягрью просте покрове\n",
            "и душко \n",
            "\n",
            "[9m 17s (3000 85%) 1.8723]\n",
            " привет светлана ты мою\n",
            "махичь не реше чисто на на смела,\n",
            "лоннов, я придела молдна;\n",
            "не шего он? скоря,\n",
            "зориться он горез \n",
            "\n",
            "[9m 34s (3100 88%) 2.0475]\n",
            " привет светлана ты стала?»\n",
            "вот сей томним впосторовость;\n",
            "и был мой на стрен просниче мень,\n",
            "молоды там чернивый радав;\n",
            "н \n",
            "\n",
            "[9m 52s (3200 91%) 2.0344]\n",
            " привет светлана ты надуча,\n",
            "кого девений, где мне глетом\n",
            "цело теня для над идетья.\n",
            "не тон городно поповылом\n",
            "и колет верн \n",
            "\n",
            "[10m 10s (3300 94%) 2.0487]\n",
            " привет светлана ты пошель,\n",
            "а поред приять вот как привой зомых;\n",
            "в это верчал и предная был,\n",
            "отмили я нет мыль красит на \n",
            "\n",
            "[10m 27s (3400 97%) 1.7587]\n",
            " привет светлана ты смовые мукого довольной.\n",
            "обно волни она мождала,\n",
            "когда старану зиманые\n",
            "и нимке радписно в догбуй гус \n",
            "\n",
            "[10m 46s (3500 100%) 1.8516]\n",
            " привет светлана ты воло\n",
            "мне нимать ужелась мой возвиму\n",
            "любовь желатья: пишут:\n",
            "влажда вновь всё вушкатый цвета\n",
            "подражна  \n",
            "\n"
          ]
        }
      ]
    },
    {
      "cell_type": "code",
      "source": [
        "print(all_losses[-10:])"
      ],
      "metadata": {
        "colab": {
          "base_uri": "https://localhost:8080/"
        },
        "id": "nYxmEFx_9R7C",
        "outputId": "a06c616d-8956-46ee-e81d-0e19f614400a"
      },
      "execution_count": 18,
      "outputs": [
        {
          "output_type": "stream",
          "name": "stdout",
          "text": [
            "[1.894726165771484, 1.8933418273925782, 1.9543334197998046, 1.986566680908203, 1.9940559234619144, 1.999741607666016, 1.9465832824707032, 1.8987049713134767, 2.060212173461914, 1.923877502441406]\n"
          ]
        }
      ]
    },
    {
      "cell_type": "code",
      "source": [
        "print(evaluate(' мой дядя самых честных правил', predict_len = 500, temperature = 0.8))"
      ],
      "metadata": {
        "colab": {
          "base_uri": "https://localhost:8080/"
        },
        "id": "2jlIIjW2AOsp",
        "outputId": "8c60bf29-5b89-4f77-9494-c04e6a7b2879"
      },
      "execution_count": 19,
      "outputs": [
        {
          "output_type": "stream",
          "name": "stdout",
          "text": [
            " мой дядя самых честных правила\n",
            "ее повершенье моды\n",
            "и в в как на печальые одна\n",
            "ещусь расненье на в диней\n",
            "всегда в свое зане двето вперхова,\n",
            "и в вдруг воза мне тля.\n",
            "\n",
            "\n",
            "\n",
            "xxi\n",
            "\n",
            "бещалась ночанной полку\n",
            "музда муз без всех вза странью;\n",
            "ее певесть в некождно мого,\n",
            "как пустыки двет головнит воскух,\n",
            "на друга моздодый забыпленный\n",
            "к убего обленьем,\n",
            "и мои не холовых,\n",
            "и мог улыбые\n",
            "сиха и всё порук то кушком,\n",
            "скорки зиданке скак ее похрался,\n",
            "всадительно буж как рассмова,\n",
            "глядит седь покорены… – и бильно,\n",
            "больше в все вешли в то глозлеть,\n",
            "про\n"
          ]
        }
      ]
    },
    {
      "cell_type": "code",
      "execution_count": 20,
      "metadata": {
        "id": "uu9mntKQYv8o"
      },
      "outputs": [],
      "source": [
        "def generate_sample(char_rnn, seed_phrase=None, max_length=200, temperature=1.0, device=device):\n",
        "    '''\n",
        "    The function generates text given a phrase of length at least SEQ_LENGTH.\n",
        "    :param seed_phrase: prefix characters. The RNN is asked to continue the phrase\n",
        "    :param max_length: maximum output length, including seed_phrase\n",
        "    :param temperature: coefficient for sampling.  higher temperature produces more chaotic outputs,\n",
        "                        smaller temperature converges to the single most likely output\n",
        "    '''\n",
        "\n",
        "    if seed_phrase is not None:\n",
        "        x_sequence = [token_to_idx['<sos>']] + [token_to_idx[token] for token in seed_phrase]\n",
        "    else:\n",
        "        x_sequence = [token_to_idx['<sos>']]\n",
        "\n",
        "    x_sequence = torch.tensor([x_sequence], dtype=torch.int64).to(device)\n",
        "\n",
        "    #feed the seed phrase, if any\n",
        "\n",
        "    # your code here\n",
        "\n",
        "    return ''.join([tokens[ix] for ix in x_sequence.cpu().data.numpy()[0]])"
      ]
    },
    {
      "cell_type": "markdown",
      "metadata": {
        "id": "eDFUJKYTYv8o"
      },
      "source": [
        "В качестве иллюстрации ниже доступен график значений функции потерь, построенный в ходе обучения авторской сети (сам код для ее обучения вам и предстоит написать)."
      ]
    },
    {
      "cell_type": "code",
      "execution_count": null,
      "metadata": {
        "id": "H04AJtmNYv8o",
        "outputId": "cb13603f-bcea-4c8d-ebca-da5ef1846283"
      },
      "outputs": [
        {
          "data": {
            "image/png": "[encoded data removed]",
            "text/plain": [
              "<Figure size 432x288 with 1 Axes>"
            ]
          },
          "metadata": {
            "needs_background": "light"
          },
          "output_type": "display_data"
        }
      ],
      "source": []
    },
    {
      "cell_type": "markdown",
      "metadata": {
        "id": "aJJBI9-UYv8o"
      },
      "source": [
        "Шаблон функции `generate_sample` также доступен ниже. Вы можете как дозаполнить его, так и написать свою собственную функцию с нуля. Не забывайте, что все примеры в обучающей выборке начинались с токена `<sos>`."
      ]
    },
    {
      "cell_type": "markdown",
      "metadata": {
        "id": "yO5FuiyiYv8p"
      },
      "source": [
        "Пример текста сгенерированного обученной моделью доступен ниже. Не страшно, что в тексте много несуществующих слов. Используемая модель очень проста: это простая классическая RNN."
      ]
    },
    {
      "cell_type": "code",
      "execution_count": null,
      "metadata": {
        "id": "Kf9m9k4qYv8p",
        "outputId": "55c69deb-43d4-49f8-b778-28cc4f8f923b"
      },
      "outputs": [
        {
          "name": "stdout",
          "output_type": "stream",
          "text": [
            "<sos> мой дядя самых честных правилас;\n",
            "\n",
            "\n",
            "\n",
            "xiv\n",
            "\n",
            "но как потокой.\n",
            "\n",
            "\n",
            "\n",
            "xii\n",
            "\n",
            "«я свобред не словавран в скорей,\n",
            "для с посвялесь мне моловой,\n",
            "те ты,\n",
            "перегиной в тям праздной\n",
            "и привезут перваю вся вновся сквозь ти стала сблился,\n",
            "и старый свимарной таня обратель любова не когда и нет волностье нежной\n",
            "тишен,\n",
            "перестоком.\n",
            "«поже постаничив очествы\n",
            "в и старько забаньем и заковенью,\n",
            "ее своя моднать наводушта;\n",
            "какой нет поли своем горозный и быле и, законно он ходушних недважный плая\n",
            "с за стра.\n",
            "\n",
            "\n",
            "\n",
            "xvii\n",
            "\n",
            "\n",
            "\n",
            "\n",
            "xxvi\n",
            "\n",
            "все \n"
          ]
        }
      ],
      "source": [
        "print(generate_sample(model, ' мой дядя самых честных правил', max_length=500, temperature=0.8))"
      ]
    },
    {
      "cell_type": "markdown",
      "metadata": {
        "id": "MaeVJ1MYYv8p"
      },
      "source": [
        "### Сдача задания\n",
        "Сгенерируйте десять последовательностей длиной 500, используя строку ' мой дядя самых честных правил'. Температуру для генерации выберите самостоятельно на основании визуального качества генериуремого текста. Не забудьте удалить все технические токены в случае их наличия.\n",
        "\n",
        "Сгенерированную последовательность сохрание в переменную `generated_phrase` и сдайте сгенерированный ниже файл в контест."
      ]
    },
    {
      "cell_type": "code",
      "execution_count": 20,
      "metadata": {
        "id": "c7_6gSFFYv8p"
      },
      "outputs": [],
      "source": [
        "seed_phrase = ' мой дядя самых честных правил'"
      ]
    },
    {
      "cell_type": "code",
      "execution_count": 25,
      "metadata": {
        "colab": {
          "base_uri": "https://localhost:8080/"
        },
        "id": "tFXEF7W-Yv8p",
        "outputId": "49243a7b-8e45-4f52-ebe0-f2b1c87c4ab1"
      },
      "outputs": [
        {
          "output_type": "stream",
          "name": "stdout",
          "text": [
            " мой дядя самых честных правил,\n",
            "поздных наше те моле воздный затей,\n",
            "что о фронстик фина,\n",
            "к моя, покарнака встранных\n",
            "мне чисти ей шел встренем\n",
            "с кречку ж в наши двушку и вольне,\n",
            "где в эта сон ловейц слушь;\n",
            "поражать как глазям\n",
            "тревоженского двум она\n",
            "на ворпо дорогу,\n",
            "кок это вела для вегее\n",
            "без милою занит,\n",
            "слез без болыши; подрой\n",
            "всё эва б как куда непрестью,\n",
            "гроблать видленных боя,\n",
            "как оторилами вслуги,\n",
            "пораза мельной певы\n",
            "тече подрой насымет.\n",
            "вас, быть головой наням,\n",
            "а как в муза благотей\n",
            "часть в\n",
            " мой дядя самых честных правила\n",
            "на раздупону и на прихительно…\n",
            "в кой приный больцу своей,\n",
            "что ковершебнуют вечерками\n",
            "благодет в едая уж ей.\n",
            "\n",
            "\n",
            "\n",
            "xxvii\n",
            "\n",
            "так покук ей ужать любовью,\n",
            "и то милый корей монежного он,\n",
            "под него жает ображу; я.\n",
            "когда и лень. шутит заметно,\n",
            "глядать верной мне вышлась в и хлуком\n",
            "и в так ота на госе\n",
            "мне не и ей времель своей\n",
            "рассанье плакать? – боле пруга,\n",
            "проль приропилан и заброй\n",
            "и наплестивый кудет, и его\n",
            "предо душа евгине, тишко возрачно\n",
            "посластвих как-шульковой быланный,\n",
            " мой дядя самых честных правилать,\n",
            "когда и простой тафких мельним,\n",
            "и всюбью казь везго,\n",
            "и вот она насобрать,\n",
            "что ваши бывале ста,\n",
            "за миланый как жвел и слова\n",
            "сочет послако раздетальой,\n",
            "на те моровит я, в девал,\n",
            "она живал и то про верной\n",
            "беспель за подал, в и привокрой\n",
            "в так полоках, в глубок, как може\n",
            "плеча, немук мог уждов\n",
            "и вышит, глаза беглась…\n",
            "она, как и ним столька,\n",
            "и сани затей глыбал есть его\n",
            "старина зарах и друг,\n",
            "мне нет услем и не бере\n",
            "задо пока, няня, казамана,\n",
            "потоло так бедущак\n",
            "всегд\n",
            " мой дядя самых честных правила\n",
            "подорнами снега умельскам\n",
            "забразнючем судара,\n",
            "кого постал и муж не затом слез пушков мовенцу…\n",
            "и послеют; на весе,\n",
            "мгамне упражен бурно,\n",
            "гротыжась упрерять в уходит,\n",
            "и подругежно так кровая,\n",
            "когда в ною преднять роской\n",
            "я, раз бег онюгий,\n",
            "а святилей кровей ловью,\n",
            "она, недвуж ей сна печать\n",
            "и сокнова шласит\n",
            "на плено с болей видала\n",
            "хоть полуки ей закор,\n",
            "как покатила накушит,\n",
            "отрень и врага ласковать;\n",
            "золами в чувшесь, страсточе,\n",
            "как мой лоне пречепле\n",
            "вот гнут, поверше \n",
            " мой дядя самых честных правила,\n",
            "седого окерам собрались,\n",
            "мя тишиненных полно ино,\n",
            "просто жижут душимой\n",
            "вопроготей я, в нем силой;\n",
            "гловое мученье весель,\n",
            "по меж как таник сужке печать\n",
            "и разой слез встала.\n",
            "на мазукой заторы\n",
            "и в презрять красницы подыжи,\n",
            "какаго бы в девалат;\n",
            "в шумать на погруй мойчены\n",
            "и в глазать при всё, куплях я,\n",
            "же ночь она вашу милы».\n",
            "\n",
            "\n",
            "ivi\n",
            "\n",
            "как пишалым супруг навсем,\n",
            "как провета она затите,\n",
            "он сень бил маче почала.\n",
            "флаток плакак калаться труногих главы\n",
            "и велзне для слездо и н\n",
            " мой дядя самых честных правила\n",
            "в шумал весно пирок\n",
            "отя верка и душше была,\n",
            "когко вно в за татьяна вечты,\n",
            "подвизна то конет она,\n",
            "когда повять я отрени душайсь,\n",
            "как за уных подруг пишила —\n",
            "всех веня так слез цветель,\n",
            "гловой думул ужем,\n",
            "его мысь узлостить пократь?\n",
            "всё не про незбаткено прожала,\n",
            "когчать, как юною в которена,\n",
            "и вселья пестой собранье,\n",
            "она ваш, отковать венце,\n",
            "как милый поружки тишиненье,\n",
            "на поломать полков,\n",
            "но модит об ковалок,\n",
            "но не могает и покоре\n",
            "но мои спастало ну я\n",
            "сомнита, душ\n",
            " мой дядя самых честных правил была\n",
            "третство миму ветрена,\n",
            "не третым и слез то горей\n",
            "\n",
            "\n",
            "\n",
            "xl\n",
            "\n",
            "оналась метала благодургать,\n",
            "за в кругом боздел лишь не своих.\n",
            "\n",
            "\n",
            "\n",
            "xxix\n",
            "\n",
            "и вельной к могу картинать\n",
            "ее был то у их седьма.\n",
            "к ее двуждно задершенье,\n",
            "ему в нем и молдо.\n",
            "требй казно связя не пуцать,\n",
            "гляде я восчет уреные вешла,\n",
            "я в путь ли, вот ж была воленьем\n",
            "она печаль себя, коной\n",
            "и правно милый друга,\n",
            "с как ta?e^te-усственье вот\n",
            "в нешать блет ее она\n",
            "вно позделад, проместью готои,\n",
            "когде усмею молоной,\n",
            "кого \n",
            " мой дядя самых честных правиленной\n",
            "жда своеры, мне муз я:\n",
            "о плакать, на утручать и вкусты,\n",
            "и в подавничерут наконец\n",
            "\n",
            "\n",
            "\n",
            "xxiv\n",
            "\n",
            "и конечего звета,\n",
            "как то счасть почерней на шибками\n",
            "в нагди мне нася кому.\n",
            "\n",
            "\n",
            "\n",
            "xxxv\n",
            "\n",
            "так форазяй моей как\n",
            "на карченно – не боге\n",
            "мелет, другом без прословая,\n",
            "что улость вы нескуством,\n",
            "на билыб к своею карилась,\n",
            "глусисмо как не путь он\n",
            "пречены, посладут, онегин\n",
            "и в душа любовь мого\n",
            "его она завеспить,\n",
            "позднала красно посутье томне\n",
            "я в ней моей за: шовлон,\n",
            "как нет мучей страст\n",
            " мой дядя самых честных правилать,\n",
            "что как на пусто забом,\n",
            "поглать поле простовет,\n",
            "и в к полук улюбя\n",
            "шель письмо стольшои увеле\n",
            "в гов и нашим коне мой обыма.\n",
            "\n",
            "\n",
            "\n",
            "xxi\n",
            "\n",
            "но нужал подорась кроить?»\n",
            "– я ваше кученесках,\n",
            "не поразим них велет,\n",
            "когда не моей пистрогила\n",
            "на перво горхов,\n",
            "слеща творы горевляя,\n",
            "к отчас давно поладать\n",
            "кроказье был балогиши,\n",
            "но нас она тревогфен,\n",
            "зная сне сталась монедых,\n",
            "взок немушко мога:\n",
            "увыл небовленья чашь:\n",
            "и светы коне вольник словай,\n",
            "глупинаву души ночи\n",
            "сагда разыблекли\n",
            " мой дядя самых честных правила\n",
            "слямама промые друг,\n",
            "как я в груспишь не покурачем\n",
            "прожал ей правните разредут,\n",
            "как ганугли о полей встречет\n",
            "еще увежна, взглядит,\n",
            "когда качалась ни никог\n",
            "евгенит, зантало тако возраженным,\n",
            "поворенный душа море,\n",
            "как луна, любовь;\n",
            "и всё мы немушка нешит.\n",
            "он пленал всяметь флобочку и неверь\n",
            "(простой борскал движдно\n",
            "уж это прочего искух\n",
            "и ночь усполуки ей\n",
            "как был требе неится его,\n",
            "и луна кудут, создразгит\n",
            "ступен, стрез в ныком вознаех;\n",
            "кляд просто словая в улался,\n",
            "пр\n"
          ]
        }
      ],
      "source": [
        "generated_phrases = [\n",
        "    evaluate(seed_phrase, predict_len = 500 - len(seed_phrase), temperature = 0.8)\n",
        "    for _ in range(10)\n",
        "]\n",
        "\n",
        "\n",
        "for i in range(10):\n",
        "  print(generated_phrases[i])\n",
        "\n",
        "# For example:\n",
        "\n",
        "# generated_phrases = [\n",
        "#     generate_sample(\n",
        "#         model,\n",
        "#         ' мой дядя самых честных правил',\n",
        "#         max_length=500,\n",
        "#         temperature=1.\n",
        "#     ).replace('<sos>', '')\n",
        "#     for _ in range(10)\n",
        "# ]"
      ]
    },
    {
      "cell_type": "code",
      "source": [
        "print(generated_phrases)\n",
        "\n",
        "for i in generated_phrases:\n",
        "  print(len(i))"
      ],
      "metadata": {
        "id": "rfE26gAuBlFc",
        "outputId": "71ad6674-12b0-4940-a48a-5caaf1b76d3a",
        "colab": {
          "base_uri": "https://localhost:8080/"
        }
      },
      "execution_count": 26,
      "outputs": [
        {
          "output_type": "stream",
          "name": "stdout",
          "text": [
            "[' мой дядя самых честных правил,\\nпоздных наше те моле воздный затей,\\nчто о фронстик фина,\\nк моя, покарнака встранных\\nмне чисти ей шел встренем\\nс кречку ж в наши двушку и вольне,\\nгде в эта сон ловейц слушь;\\nпоражать как глазям\\nтревоженского двум она\\nна ворпо дорогу,\\nкок это вела для вегее\\nбез милою занит,\\nслез без болыши; подрой\\nвсё эва б как куда непрестью,\\nгроблать видленных боя,\\nкак оторилами вслуги,\\nпораза мельной певы\\nтече подрой насымет.\\nвас, быть головой наням,\\nа как в муза благотей\\nчасть в', ' мой дядя самых честных правила\\nна раздупону и на прихительно…\\nв кой приный больцу своей,\\nчто ковершебнуют вечерками\\nблагодет в едая уж ей.\\n\\n\\n\\nxxvii\\n\\nтак покук ей ужать любовью,\\nи то милый корей монежного он,\\nпод него жает ображу; я.\\nкогда и лень. шутит заметно,\\nглядать верной мне вышлась в и хлуком\\nи в так ота на госе\\nмне не и ей времель своей\\nрассанье плакать? – боле пруга,\\nпроль приропилан и заброй\\nи наплестивый кудет, и его\\nпредо душа евгине, тишко возрачно\\nпосластвих как-шульковой быланный,', ' мой дядя самых честных правилать,\\nкогда и простой тафких мельним,\\nи всюбью казь везго,\\nи вот она насобрать,\\nчто ваши бывале ста,\\nза миланый как жвел и слова\\nсочет послако раздетальой,\\nна те моровит я, в девал,\\nона живал и то про верной\\nбеспель за подал, в и привокрой\\nв так полоках, в глубок, как може\\nплеча, немук мог уждов\\nи вышит, глаза беглась…\\nона, как и ним столька,\\nи сани затей глыбал есть его\\nстарина зарах и друг,\\nмне нет услем и не бере\\nзадо пока, няня, казамана,\\nпотоло так бедущак\\nвсегд', ' мой дядя самых честных правила\\nподорнами снега умельскам\\nзабразнючем судара,\\nкого постал и муж не затом слез пушков мовенцу…\\nи послеют; на весе,\\nмгамне упражен бурно,\\nгротыжась упрерять в уходит,\\nи подругежно так кровая,\\nкогда в ною преднять роской\\nя, раз бег онюгий,\\nа святилей кровей ловью,\\nона, недвуж ей сна печать\\nи сокнова шласит\\nна плено с болей видала\\nхоть полуки ей закор,\\nкак покатила накушит,\\nотрень и врага ласковать;\\nзолами в чувшесь, страсточе,\\nкак мой лоне пречепле\\nвот гнут, поверше ', ' мой дядя самых честных правила,\\nседого окерам собрались,\\nмя тишиненных полно ино,\\nпросто жижут душимой\\nвопроготей я, в нем силой;\\nгловое мученье весель,\\nпо меж как таник сужке печать\\nи разой слез встала.\\nна мазукой заторы\\nи в презрять красницы подыжи,\\nкакаго бы в девалат;\\nв шумать на погруй мойчены\\nи в глазать при всё, куплях я,\\nже ночь она вашу милы».\\n\\n\\nivi\\n\\nкак пишалым супруг навсем,\\nкак провета она затите,\\nон сень бил маче почала.\\nфлаток плакак калаться труногих главы\\nи велзне для слездо и н', ' мой дядя самых честных правила\\nв шумал весно пирок\\nотя верка и душше была,\\nкогко вно в за татьяна вечты,\\nподвизна то конет она,\\nкогда повять я отрени душайсь,\\nкак за уных подруг пишила —\\nвсех веня так слез цветель,\\nгловой думул ужем,\\nего мысь узлостить пократь?\\nвсё не про незбаткено прожала,\\nкогчать, как юною в которена,\\nи вселья пестой собранье,\\nона ваш, отковать венце,\\nкак милый поружки тишиненье,\\nна поломать полков,\\nно модит об ковалок,\\nно не могает и покоре\\nно мои спастало ну я\\nсомнита, душ', ' мой дядя самых честных правил была\\nтретство миму ветрена,\\nне третым и слез то горей\\n\\n\\n\\nxl\\n\\nоналась метала благодургать,\\nза в кругом боздел лишь не своих.\\n\\n\\n\\nxxix\\n\\nи вельной к могу картинать\\nее был то у их седьма.\\nк ее двуждно задершенье,\\nему в нем и молдо.\\nтребй казно связя не пуцать,\\nгляде я восчет уреные вешла,\\nя в путь ли, вот ж была воленьем\\nона печаль себя, коной\\nи правно милый друга,\\nс как ta?e^te-усственье вот\\nв нешать блет ее она\\nвно позделад, проместью готои,\\nкогде усмею молоной,\\nкого ', ' мой дядя самых честных правиленной\\nжда своеры, мне муз я:\\nо плакать, на утручать и вкусты,\\nи в подавничерут наконец\\n\\n\\n\\nxxiv\\n\\nи конечего звета,\\nкак то счасть почерней на шибками\\nв нагди мне нася кому.\\n\\n\\n\\nxxxv\\n\\nтак форазяй моей как\\nна карченно – не боге\\nмелет, другом без прословая,\\nчто улость вы нескуством,\\nна билыб к своею карилась,\\nглусисмо как не путь он\\nпречены, посладут, онегин\\nи в душа любовь мого\\nего она завеспить,\\nпозднала красно посутье томне\\nя в ней моей за: шовлон,\\nкак нет мучей страст', ' мой дядя самых честных правилать,\\nчто как на пусто забом,\\nпоглать поле простовет,\\nи в к полук улюбя\\nшель письмо стольшои увеле\\nв гов и нашим коне мой обыма.\\n\\n\\n\\nxxi\\n\\nно нужал подорась кроить?»\\n– я ваше кученесках,\\nне поразим них велет,\\nкогда не моей пистрогила\\nна перво горхов,\\nслеща творы горевляя,\\nк отчас давно поладать\\nкроказье был балогиши,\\nно нас она тревогфен,\\nзная сне сталась монедых,\\nвзок немушко мога:\\nувыл небовленья чашь:\\nи светы коне вольник словай,\\nглупинаву души ночи\\nсагда разыблекли', ' мой дядя самых честных правила\\nслямама промые друг,\\nкак я в груспишь не покурачем\\nпрожал ей правните разредут,\\nкак ганугли о полей встречет\\nеще увежна, взглядит,\\nкогда качалась ни никог\\nевгенит, зантало тако возраженным,\\nповоренный душа море,\\nкак луна, любовь;\\nи всё мы немушка нешит.\\nон пленал всяметь флобочку и неверь\\n(простой борскал движдно\\nуж это прочего искух\\nи ночь усполуки ей\\nкак был требе неится его,\\nи луна кудут, создразгит\\nступен, стрез в ныком вознаех;\\nкляд просто словая в улался,\\nпр']\n",
            "500\n",
            "500\n",
            "500\n",
            "500\n",
            "500\n",
            "500\n",
            "500\n",
            "500\n",
            "500\n",
            "500\n"
          ]
        }
      ]
    },
    {
      "cell_type": "code",
      "execution_count": 27,
      "metadata": {
        "colab": {
          "base_uri": "https://localhost:8080/"
        },
        "id": "716TLo6AYv8p",
        "outputId": "5fd3b420-334d-4b8a-f611-1e5e6c5868b9"
      },
      "outputs": [
        {
          "output_type": "stream",
          "name": "stdout",
          "text": [
            "File saved to `submission_dict.json`\n"
          ]
        }
      ],
      "source": [
        "# do not change the code in the block below\n",
        "# __________start of block__________\n",
        "\n",
        "import json\n",
        "if 'generated_phrases' not in locals():\n",
        "    raise ValueError(\"Please, save generated phrases to `generated_phrases` variable\")\n",
        "\n",
        "for phrase in generated_phrases:\n",
        "\n",
        "    if not isinstance(phrase, str):\n",
        "        raise ValueError(\"The generated phrase should be a string\")\n",
        "\n",
        "    if len(phrase) != 500:\n",
        "        raise ValueError(\"The `generated_phrase` length should be equal to 500\")\n",
        "\n",
        "    assert all([x in set(tokens) for x in set(list(phrase))]), 'Unknown tokens detected, check your submission!'\n",
        "\n",
        "\n",
        "submission_dict = {\n",
        "    'token_to_idx': token_to_idx,\n",
        "    'generated_phrases': generated_phrases\n",
        "}\n",
        "\n",
        "with open('submission_dict.json', 'w') as iofile:\n",
        "    json.dump(submission_dict, iofile)\n",
        "print('File saved to `submission_dict.json`')\n",
        "# __________end of block__________"
      ]
    },
    {
      "cell_type": "markdown",
      "metadata": {
        "id": "Ka8pKcgZYv8p"
      },
      "source": [
        "На этом задание завершено. Поздравляем!"
      ]
    }
  ],
  "metadata": {
    "accelerator": "GPU",
    "anaconda-cloud": {},
    "colab": {
      "name": "NLP HW Lab01_Poetry_generation.v5.ipynb",
      "provenance": [],
      "include_colab_link": true
    },
    "kernelspec": {
      "display_name": "Py3 Research",
      "language": "python",
      "name": "py3_research"
    },
    "language_info": {
      "codemirror_mode": {
        "name": "ipython",
        "version": 3
      },
      "file_extension": ".py",
      "mimetype": "text/x-python",
      "name": "python",
      "nbconvert_exporter": "python",
      "pygments_lexer": "ipython3",
      "version": "3.7.10"
    }
  },
  "nbformat": 4,
  "nbformat_minor": 0
}